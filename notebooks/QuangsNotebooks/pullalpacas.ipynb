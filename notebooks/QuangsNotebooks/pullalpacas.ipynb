{
 "metadata": {
  "language_info": {
   "codemirror_mode": {
    "name": "ipython",
    "version": 3
   },
   "file_extension": ".py",
   "mimetype": "text/x-python",
   "name": "python",
   "nbconvert_exporter": "python",
   "pygments_lexer": "ipython3",
   "version": "3.8.5"
  },
  "orig_nbformat": 2,
  "kernelspec": {
   "name": "python385jvsc74a57bd0e3d3bff687f703ad3928cf3e76d3a900c4f06b8bfc69a25eb31bc97c63177b9f",
   "display_name": "Python 3.8.5 64-bit ('base': conda)"
  }
 },
 "nbformat": 4,
 "nbformat_minor": 2,
 "cells": [
  {
   "source": [
    "import os\n",
    "import requests\n",
    "import pandas as pd\n",
    "from dotenv import load_dotenv\n",
    "import alpaca_trade_api as tradeapi\n",
    "\n",
    "%matplotlib inline"
   ],
   "cell_type": "code",
   "metadata": {},
   "execution_count": 14,
   "outputs": []
  },
  {
   "cell_type": "code",
   "execution_count": 15,
   "metadata": {},
   "outputs": [
    {
     "output_type": "execute_result",
     "data": {
      "text/plain": [
       "True"
      ]
     },
     "metadata": {},
     "execution_count": 15
    }
   ],
   "source": [
    "load_dotenv()"
   ]
  },
  {
   "cell_type": "code",
   "execution_count": 16,
   "metadata": {},
   "outputs": [],
   "source": [
    "alpaca_api_key = os.getenv(\"ALPACA_API_KEY\")\n",
    "alpaca_secret_key = os.getenv(\"ALPACA_SECRET_KEY\")"
   ]
  },
  {
   "cell_type": "code",
   "execution_count": 17,
   "metadata": {},
   "outputs": [
    {
     "output_type": "stream",
     "name": "stdout",
     "text": [
      "Alpaca Key type: <class 'str'>\nAlpaca Secret Key type: <class 'str'>\n"
     ]
    }
   ],
   "source": [
    "print(f\"Alpaca Key type: {type(alpaca_api_key)}\")\n",
    "print(f\"Alpaca Secret Key type: {type(alpaca_secret_key)}\")"
   ]
  },
  {
   "cell_type": "code",
   "execution_count": 18,
   "metadata": {},
   "outputs": [],
   "source": [
    "alpaca = tradeapi.REST(\n",
    "    alpaca_api_key,\n",
    "    alpaca_secret_key,\n",
    "    api_version=\"v2\")"
   ]
  },
  {
   "cell_type": "code",
   "execution_count": 19,
   "metadata": {},
   "outputs": [],
   "source": [
    "today = pd.Timestamp(\"2020-07-14\", tz=\"America/New_York\").isoformat()"
   ]
  },
  {
   "cell_type": "code",
   "execution_count": 20,
   "metadata": {},
   "outputs": [],
   "source": [
    "tickers = [\"AMZN\", \"ASO\", \"BABA\", \"DIS\", \"DPZ\", \"EBAY\", \"ETSY\", \"FB\", \"MCD\", \"PYPL\", \"SBUX\", \"SHOP\", \"SQ\", \"TGT\", \"UBER\", \"WEN\", \"WMT\", \"GRUB\", \"MACY\", \"OSTK\", \"LVMUY\", \"WSM\", \"PPRUY\",\"YUM\", \"SHLDQ\", \"DRI\",\"EAT\",\"NFLX\"]"
   ]
  },
  {
   "cell_type": "code",
   "execution_count": 33,
   "metadata": {},
   "outputs": [],
   "source": [
    "timeframe = \"1D\""
   ]
  },
  {
   "cell_type": "code",
   "execution_count": 34,
   "metadata": {},
   "outputs": [],
   "source": [
    "df_portfolio = alpaca.get_barset(\n",
    "    tickers,\n",
    "    timeframe,\n",
    "    start = \"01/01/2021\",\n",
    "    end = today\n",
    ").df"
   ]
  },
  {
   "cell_type": "code",
   "execution_count": 35,
   "metadata": {},
   "outputs": [
    {
     "output_type": "execute_result",
     "data": {
      "text/plain": [
       "                              AMZN                                         \\\n",
       "                              open      high        low    close   volume   \n",
       "time                                                                        \n",
       "2020-02-21 05:00:00+00:00  2141.00  2143.540  2088.0000  2095.97  4342141   \n",
       "2020-02-24 05:00:00+00:00  2003.18  2039.295  1987.9742  2008.74  6047539   \n",
       "2020-02-25 05:00:00+00:00  2026.42  2034.600  1958.4200  1970.65  5858950   \n",
       "2020-02-26 05:00:00+00:00  1970.01  2014.670  1960.4500  1979.61  4906059   \n",
       "2020-02-27 05:00:00+00:00  1934.38  1975.000  1882.7621  1882.88  7600123   \n",
       "...                            ...       ...        ...      ...      ...   \n",
       "2020-07-08 04:00:00+00:00  3022.61  3083.970  3012.4302  3081.88  4687637   \n",
       "2020-07-09 04:00:00+00:00  3115.99  3193.880  3074.0017  3183.81  6101864   \n",
       "2020-07-10 04:00:00+00:00  3191.76  3215.000  3135.7000  3203.36  5135404   \n",
       "2020-07-13 04:00:00+00:00  3251.06  3344.290  3068.3901  3101.55  7304358   \n",
       "2020-07-14 04:00:00+00:00  3089.00  3127.380  2950.0000  3084.02  6842135   \n",
       "\n",
       "                           ASO                         ...    WEN           \\\n",
       "                          open high  low close volume  ...   open     high   \n",
       "time                                                   ...                   \n",
       "2020-02-21 05:00:00+00:00  NaN  NaN  NaN   NaN    NaN  ...  23.55  23.9800   \n",
       "2020-02-24 05:00:00+00:00  NaN  NaN  NaN   NaN    NaN  ...  23.50  23.7800   \n",
       "2020-02-25 05:00:00+00:00  NaN  NaN  NaN   NaN    NaN  ...  23.55  24.0373   \n",
       "2020-02-26 05:00:00+00:00  NaN  NaN  NaN   NaN    NaN  ...  22.50  23.5900   \n",
       "2020-02-27 05:00:00+00:00  NaN  NaN  NaN   NaN    NaN  ...  21.58  22.0200   \n",
       "...                        ...  ...  ...   ...    ...  ...    ...      ...   \n",
       "2020-07-08 04:00:00+00:00  NaN  NaN  NaN   NaN    NaN  ...  21.95  22.4200   \n",
       "2020-07-09 04:00:00+00:00  NaN  NaN  NaN   NaN    NaN  ...  22.24  22.2500   \n",
       "2020-07-10 04:00:00+00:00  NaN  NaN  NaN   NaN    NaN  ...  21.72  22.0500   \n",
       "2020-07-13 04:00:00+00:00  NaN  NaN  NaN   NaN    NaN  ...  22.21  22.4000   \n",
       "2020-07-14 04:00:00+00:00  NaN  NaN  NaN   NaN    NaN  ...  21.54  21.7700   \n",
       "\n",
       "                                                        WMT                   \\\n",
       "                               low  close   volume     open    high      low   \n",
       "time                                                                           \n",
       "2020-02-21 05:00:00+00:00  23.4500  23.93  5000747  117.440  118.75  117.310   \n",
       "2020-02-24 05:00:00+00:00  23.3300  23.39  2842720  117.460  118.46  115.952   \n",
       "2020-02-25 05:00:00+00:00  22.9350  22.96  4430660  116.350  117.07  114.050   \n",
       "2020-02-26 05:00:00+00:00  21.8200  21.91  5978438  114.700  115.17  113.650   \n",
       "2020-02-27 05:00:00+00:00  20.0500  20.07  4532901  112.560  114.07  110.350   \n",
       "...                            ...    ...      ...      ...     ...      ...   \n",
       "2020-07-08 04:00:00+00:00  21.8700  22.22  1466275  128.000  128.13  124.400   \n",
       "2020-07-09 04:00:00+00:00  21.5500  21.63  2451845  125.610  128.18  124.950   \n",
       "2020-07-10 04:00:00+00:00  21.5600  21.99  1460425  128.735  131.37  127.260   \n",
       "2020-07-13 04:00:00+00:00  21.4113  21.43  1840510  131.330  133.63  128.890   \n",
       "2020-07-14 04:00:00+00:00  21.2741  21.72  1379013  129.280  132.50  129.026   \n",
       "\n",
       "                                             \n",
       "                            close    volume  \n",
       "time                                         \n",
       "2020-02-21 05:00:00+00:00  118.59   4869840  \n",
       "2020-02-24 05:00:00+00:00  116.34   5703877  \n",
       "2020-02-25 05:00:00+00:00  114.42   6000189  \n",
       "2020-02-26 05:00:00+00:00  113.79   5553468  \n",
       "2020-02-27 05:00:00+00:00  110.36   7958408  \n",
       "...                           ...       ...  \n",
       "2020-07-08 04:00:00+00:00  124.41  16521036  \n",
       "2020-07-09 04:00:00+00:00  127.76  12339865  \n",
       "2020-07-10 04:00:00+00:00  130.66  14065343  \n",
       "2020-07-13 04:00:00+00:00  129.55  13012634  \n",
       "2020-07-14 04:00:00+00:00  132.02   8020496  \n",
       "\n",
       "[100 rows x 85 columns]"
      ],
      "text/html": "<div>\n<style scoped>\n    .dataframe tbody tr th:only-of-type {\n        vertical-align: middle;\n    }\n\n    .dataframe tbody tr th {\n        vertical-align: top;\n    }\n\n    .dataframe thead tr th {\n        text-align: left;\n    }\n\n    .dataframe thead tr:last-of-type th {\n        text-align: right;\n    }\n</style>\n<table border=\"1\" class=\"dataframe\">\n  <thead>\n    <tr>\n      <th></th>\n      <th colspan=\"5\" halign=\"left\">AMZN</th>\n      <th colspan=\"5\" halign=\"left\">ASO</th>\n      <th>...</th>\n      <th colspan=\"5\" halign=\"left\">WEN</th>\n      <th colspan=\"5\" halign=\"left\">WMT</th>\n    </tr>\n    <tr>\n      <th></th>\n      <th>open</th>\n      <th>high</th>\n      <th>low</th>\n      <th>close</th>\n      <th>volume</th>\n      <th>open</th>\n      <th>high</th>\n      <th>low</th>\n      <th>close</th>\n      <th>volume</th>\n      <th>...</th>\n      <th>open</th>\n      <th>high</th>\n      <th>low</th>\n      <th>close</th>\n      <th>volume</th>\n      <th>open</th>\n      <th>high</th>\n      <th>low</th>\n      <th>close</th>\n      <th>volume</th>\n    </tr>\n    <tr>\n      <th>time</th>\n      <th></th>\n      <th></th>\n      <th></th>\n      <th></th>\n      <th></th>\n      <th></th>\n      <th></th>\n      <th></th>\n      <th></th>\n      <th></th>\n      <th></th>\n      <th></th>\n      <th></th>\n      <th></th>\n      <th></th>\n      <th></th>\n      <th></th>\n      <th></th>\n      <th></th>\n      <th></th>\n      <th></th>\n    </tr>\n  </thead>\n  <tbody>\n    <tr>\n      <th>2020-02-21 05:00:00+00:00</th>\n      <td>2141.00</td>\n      <td>2143.540</td>\n      <td>2088.0000</td>\n      <td>2095.97</td>\n      <td>4342141</td>\n      <td>NaN</td>\n      <td>NaN</td>\n      <td>NaN</td>\n      <td>NaN</td>\n      <td>NaN</td>\n      <td>...</td>\n      <td>23.55</td>\n      <td>23.9800</td>\n      <td>23.4500</td>\n      <td>23.93</td>\n      <td>5000747</td>\n      <td>117.440</td>\n      <td>118.75</td>\n      <td>117.310</td>\n      <td>118.59</td>\n      <td>4869840</td>\n    </tr>\n    <tr>\n      <th>2020-02-24 05:00:00+00:00</th>\n      <td>2003.18</td>\n      <td>2039.295</td>\n      <td>1987.9742</td>\n      <td>2008.74</td>\n      <td>6047539</td>\n      <td>NaN</td>\n      <td>NaN</td>\n      <td>NaN</td>\n      <td>NaN</td>\n      <td>NaN</td>\n      <td>...</td>\n      <td>23.50</td>\n      <td>23.7800</td>\n      <td>23.3300</td>\n      <td>23.39</td>\n      <td>2842720</td>\n      <td>117.460</td>\n      <td>118.46</td>\n      <td>115.952</td>\n      <td>116.34</td>\n      <td>5703877</td>\n    </tr>\n    <tr>\n      <th>2020-02-25 05:00:00+00:00</th>\n      <td>2026.42</td>\n      <td>2034.600</td>\n      <td>1958.4200</td>\n      <td>1970.65</td>\n      <td>5858950</td>\n      <td>NaN</td>\n      <td>NaN</td>\n      <td>NaN</td>\n      <td>NaN</td>\n      <td>NaN</td>\n      <td>...</td>\n      <td>23.55</td>\n      <td>24.0373</td>\n      <td>22.9350</td>\n      <td>22.96</td>\n      <td>4430660</td>\n      <td>116.350</td>\n      <td>117.07</td>\n      <td>114.050</td>\n      <td>114.42</td>\n      <td>6000189</td>\n    </tr>\n    <tr>\n      <th>2020-02-26 05:00:00+00:00</th>\n      <td>1970.01</td>\n      <td>2014.670</td>\n      <td>1960.4500</td>\n      <td>1979.61</td>\n      <td>4906059</td>\n      <td>NaN</td>\n      <td>NaN</td>\n      <td>NaN</td>\n      <td>NaN</td>\n      <td>NaN</td>\n      <td>...</td>\n      <td>22.50</td>\n      <td>23.5900</td>\n      <td>21.8200</td>\n      <td>21.91</td>\n      <td>5978438</td>\n      <td>114.700</td>\n      <td>115.17</td>\n      <td>113.650</td>\n      <td>113.79</td>\n      <td>5553468</td>\n    </tr>\n    <tr>\n      <th>2020-02-27 05:00:00+00:00</th>\n      <td>1934.38</td>\n      <td>1975.000</td>\n      <td>1882.7621</td>\n      <td>1882.88</td>\n      <td>7600123</td>\n      <td>NaN</td>\n      <td>NaN</td>\n      <td>NaN</td>\n      <td>NaN</td>\n      <td>NaN</td>\n      <td>...</td>\n      <td>21.58</td>\n      <td>22.0200</td>\n      <td>20.0500</td>\n      <td>20.07</td>\n      <td>4532901</td>\n      <td>112.560</td>\n      <td>114.07</td>\n      <td>110.350</td>\n      <td>110.36</td>\n      <td>7958408</td>\n    </tr>\n    <tr>\n      <th>...</th>\n      <td>...</td>\n      <td>...</td>\n      <td>...</td>\n      <td>...</td>\n      <td>...</td>\n      <td>...</td>\n      <td>...</td>\n      <td>...</td>\n      <td>...</td>\n      <td>...</td>\n      <td>...</td>\n      <td>...</td>\n      <td>...</td>\n      <td>...</td>\n      <td>...</td>\n      <td>...</td>\n      <td>...</td>\n      <td>...</td>\n      <td>...</td>\n      <td>...</td>\n      <td>...</td>\n    </tr>\n    <tr>\n      <th>2020-07-08 04:00:00+00:00</th>\n      <td>3022.61</td>\n      <td>3083.970</td>\n      <td>3012.4302</td>\n      <td>3081.88</td>\n      <td>4687637</td>\n      <td>NaN</td>\n      <td>NaN</td>\n      <td>NaN</td>\n      <td>NaN</td>\n      <td>NaN</td>\n      <td>...</td>\n      <td>21.95</td>\n      <td>22.4200</td>\n      <td>21.8700</td>\n      <td>22.22</td>\n      <td>1466275</td>\n      <td>128.000</td>\n      <td>128.13</td>\n      <td>124.400</td>\n      <td>124.41</td>\n      <td>16521036</td>\n    </tr>\n    <tr>\n      <th>2020-07-09 04:00:00+00:00</th>\n      <td>3115.99</td>\n      <td>3193.880</td>\n      <td>3074.0017</td>\n      <td>3183.81</td>\n      <td>6101864</td>\n      <td>NaN</td>\n      <td>NaN</td>\n      <td>NaN</td>\n      <td>NaN</td>\n      <td>NaN</td>\n      <td>...</td>\n      <td>22.24</td>\n      <td>22.2500</td>\n      <td>21.5500</td>\n      <td>21.63</td>\n      <td>2451845</td>\n      <td>125.610</td>\n      <td>128.18</td>\n      <td>124.950</td>\n      <td>127.76</td>\n      <td>12339865</td>\n    </tr>\n    <tr>\n      <th>2020-07-10 04:00:00+00:00</th>\n      <td>3191.76</td>\n      <td>3215.000</td>\n      <td>3135.7000</td>\n      <td>3203.36</td>\n      <td>5135404</td>\n      <td>NaN</td>\n      <td>NaN</td>\n      <td>NaN</td>\n      <td>NaN</td>\n      <td>NaN</td>\n      <td>...</td>\n      <td>21.72</td>\n      <td>22.0500</td>\n      <td>21.5600</td>\n      <td>21.99</td>\n      <td>1460425</td>\n      <td>128.735</td>\n      <td>131.37</td>\n      <td>127.260</td>\n      <td>130.66</td>\n      <td>14065343</td>\n    </tr>\n    <tr>\n      <th>2020-07-13 04:00:00+00:00</th>\n      <td>3251.06</td>\n      <td>3344.290</td>\n      <td>3068.3901</td>\n      <td>3101.55</td>\n      <td>7304358</td>\n      <td>NaN</td>\n      <td>NaN</td>\n      <td>NaN</td>\n      <td>NaN</td>\n      <td>NaN</td>\n      <td>...</td>\n      <td>22.21</td>\n      <td>22.4000</td>\n      <td>21.4113</td>\n      <td>21.43</td>\n      <td>1840510</td>\n      <td>131.330</td>\n      <td>133.63</td>\n      <td>128.890</td>\n      <td>129.55</td>\n      <td>13012634</td>\n    </tr>\n    <tr>\n      <th>2020-07-14 04:00:00+00:00</th>\n      <td>3089.00</td>\n      <td>3127.380</td>\n      <td>2950.0000</td>\n      <td>3084.02</td>\n      <td>6842135</td>\n      <td>NaN</td>\n      <td>NaN</td>\n      <td>NaN</td>\n      <td>NaN</td>\n      <td>NaN</td>\n      <td>...</td>\n      <td>21.54</td>\n      <td>21.7700</td>\n      <td>21.2741</td>\n      <td>21.72</td>\n      <td>1379013</td>\n      <td>129.280</td>\n      <td>132.50</td>\n      <td>129.026</td>\n      <td>132.02</td>\n      <td>8020496</td>\n    </tr>\n  </tbody>\n</table>\n<p>100 rows × 85 columns</p>\n</div>"
     },
     "metadata": {},
     "execution_count": 35
    }
   ],
   "source": [
    "df_portfolio"
   ]
  },
  {
   "cell_type": "code",
   "execution_count": null,
   "metadata": {},
   "outputs": [],
   "source": []
  }
 ]
}