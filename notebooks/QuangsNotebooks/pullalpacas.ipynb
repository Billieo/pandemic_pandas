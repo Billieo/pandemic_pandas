{
 "metadata": {
  "language_info": {
   "codemirror_mode": {
    "name": "ipython",
    "version": 3
   },
   "file_extension": ".py",
   "mimetype": "text/x-python",
   "name": "python",
   "nbconvert_exporter": "python",
   "pygments_lexer": "ipython3",
   "version": "3.8.5"
  },
  "orig_nbformat": 2,
  "kernelspec": {
   "name": "python385jvsc74a57bd0e3d3bff687f703ad3928cf3e76d3a900c4f06b8bfc69a25eb31bc97c63177b9f",
   "display_name": "Python 3.8.5 64-bit ('base': conda)"
  }
 },
 "nbformat": 4,
 "nbformat_minor": 2,
 "cells": [
  {
   "source": [
    "import os\n",
    "import requests\n",
    "import pandas as pd\n",
    "from dotenv import load_dotenv\n",
    "import alpaca_trade_api as tradeapi\n",
    "\n",
    "%matplotlib inline"
   ],
   "cell_type": "code",
   "metadata": {},
   "execution_count": 112,
   "outputs": []
  },
  {
   "cell_type": "code",
   "execution_count": 113,
   "metadata": {},
   "outputs": [
    {
     "output_type": "execute_result",
     "data": {
      "text/plain": [
       "True"
      ]
     },
     "metadata": {},
     "execution_count": 113
    }
   ],
   "source": [
    "load_dotenv()"
   ]
  },
  {
   "cell_type": "code",
   "execution_count": 114,
   "metadata": {},
   "outputs": [],
   "source": [
    "alpaca_api_key = os.getenv(\"ALPACA_API_KEY\")\n",
    "alpaca_secret_key = os.getenv(\"ALPACA_SECRET_KEY\")"
   ]
  },
  {
   "cell_type": "code",
   "execution_count": 115,
   "metadata": {},
   "outputs": [
    {
     "output_type": "stream",
     "name": "stdout",
     "text": [
      "Alpaca Key type: <class 'str'>\nAlpaca Secret Key type: <class 'str'>\n"
     ]
    }
   ],
   "source": [
    "print(f\"Alpaca Key type: {type(alpaca_api_key)}\")\n",
    "print(f\"Alpaca Secret Key type: {type(alpaca_secret_key)}\")"
   ]
  },
  {
   "cell_type": "code",
   "execution_count": 116,
   "metadata": {},
   "outputs": [],
   "source": [
    "alpaca = tradeapi.REST(\n",
    "    alpaca_api_key,\n",
    "    alpaca_secret_key,\n",
    "    api_version=\"v2\")"
   ]
  },
  {
   "cell_type": "code",
   "execution_count": 117,
   "metadata": {},
   "outputs": [],
   "source": [
    "#today = pd.Timestamp(\"2018-01-01\", tz=\"America/New_York\").isoformat()\n",
    "start_date = pd.Timestamp('2018-08-07', tz='America/New_York').isoformat()\n",
    "end_date = pd.Timestamp('2021-04-30', tz='America/New_York').isoformat()"
   ]
  },
  {
   "cell_type": "code",
   "execution_count": 118,
   "metadata": {},
   "outputs": [],
   "source": [
    "tickers = [\"AMZN\", \"ASO\", \"BABA\", \"DIS\", \"DPZ\", \"EBAY\", \"ETSY\", \"FB\", \"MCD\", \"PYPL\", \"SBUX\", \"SHOP\", \"SQ\", \"TGT\", \"UBER\", \"WEN\", \"WMT\", \"GRUB\", \"MACY\", \"OSTK\", \"LVMUY\", \"WSM\", \"PPRUY\",\"YUM\", \"SHLDQ\", \"DRI\",\"EAT\",\"NFLX\"]"
   ]
  },
  {
   "cell_type": "code",
   "execution_count": 119,
   "metadata": {},
   "outputs": [
    {
     "output_type": "stream",
     "name": "stdout",
     "text": [
      "1D\n"
     ]
    }
   ],
   "source": [
    "timeframe = \"1D\"\n",
    "print (timeframe)"
   ]
  },
  {
   "cell_type": "code",
   "execution_count": 130,
   "metadata": {},
   "outputs": [],
   "source": [
    "df_portfolio = alpaca.get_barset(\n",
    "    tickers,\n",
    "    timeframe,\n",
    "    start = start_date,\n",
    "    end = end_date,\n",
    "    limit = 1000\n",
    ").df"
   ]
  },
  {
   "cell_type": "code",
   "execution_count": 131,
   "metadata": {},
   "outputs": [
    {
     "output_type": "execute_result",
     "data": {
      "text/plain": [
       "DatetimeIndex(['2018-08-07 04:00:00+00:00', '2018-08-08 04:00:00+00:00',\n",
       "               '2018-08-09 04:00:00+00:00', '2018-08-10 04:00:00+00:00',\n",
       "               '2018-08-13 04:00:00+00:00', '2018-08-14 04:00:00+00:00',\n",
       "               '2018-08-15 04:00:00+00:00', '2018-08-16 04:00:00+00:00',\n",
       "               '2018-08-17 04:00:00+00:00', '2018-08-20 04:00:00+00:00',\n",
       "               ...\n",
       "               '2021-04-19 04:00:00+00:00', '2021-04-20 04:00:00+00:00',\n",
       "               '2021-04-21 04:00:00+00:00', '2021-04-22 04:00:00+00:00',\n",
       "               '2021-04-23 04:00:00+00:00', '2021-04-26 04:00:00+00:00',\n",
       "               '2021-04-27 04:00:00+00:00', '2021-04-28 04:00:00+00:00',\n",
       "               '2021-04-29 04:00:00+00:00', '2021-04-30 04:00:00+00:00'],\n",
       "              dtype='datetime64[ns, UTC]', name='time', length=688, freq=None)"
      ]
     },
     "metadata": {},
     "execution_count": 131
    }
   ],
   "source": [
    "df_portfolio.index"
   ]
  },
  {
   "cell_type": "code",
   "execution_count": 132,
   "metadata": {},
   "outputs": [
    {
     "output_type": "execute_result",
     "data": {
      "text/plain": [
       "AMZN  open      0\n",
       "      high      0\n",
       "      low       0\n",
       "      close     0\n",
       "      volume    0\n",
       "               ..\n",
       "YUM   open      3\n",
       "      high      3\n",
       "      low       3\n",
       "      close     3\n",
       "      volume    3\n",
       "Length: 140, dtype: int64"
      ]
     },
     "metadata": {},
     "execution_count": 132
    }
   ],
   "source": [
    "df_portfolio.isnull().sum()"
   ]
  },
  {
   "cell_type": "code",
   "execution_count": 133,
   "metadata": {},
   "outputs": [
    {
     "output_type": "execute_result",
     "data": {
      "text/plain": [
       "Empty DataFrame\n",
       "Columns: [(AMZN, open), (AMZN, high), (AMZN, low), (AMZN, close), (AMZN, volume), (ASO, open), (ASO, high), (ASO, low), (ASO, close), (ASO, volume), (BABA, open), (BABA, high), (BABA, low), (BABA, close), (BABA, volume), (DIS, open), (DIS, high), (DIS, low), (DIS, close), (DIS, volume), (DPZ, open), (DPZ, high), (DPZ, low), (DPZ, close), (DPZ, volume), (DRI, open), (DRI, high), (DRI, low), (DRI, close), (DRI, volume), (EAT, open), (EAT, high), (EAT, low), (EAT, close), (EAT, volume), (EBAY, open), (EBAY, high), (EBAY, low), (EBAY, close), (EBAY, volume), (ETSY, open), (ETSY, high), (ETSY, low), (ETSY, close), (ETSY, volume), (FB, open), (FB, high), (FB, low), (FB, close), (FB, volume), (GRUB, open), (GRUB, high), (GRUB, low), (GRUB, close), (GRUB, volume), (LVMUY, open), (LVMUY, high), (LVMUY, low), (LVMUY, close), (LVMUY, volume), (MACY, open), (MACY, high), (MACY, low), (MACY, close), (MACY, volume), (MCD, open), (MCD, high), (MCD, low), (MCD, close), (MCD, volume), (NFLX, open), (NFLX, high), (NFLX, low), (NFLX, close), (NFLX, volume), (OSTK, open), (OSTK, high), (OSTK, low), (OSTK, close), (OSTK, volume), (PPRUY, open), (PPRUY, high), (PPRUY, low), (PPRUY, close), (PPRUY, volume), (PYPL, open), (PYPL, high), (PYPL, low), (PYPL, close), (PYPL, volume), (SBUX, open), (SBUX, high), (SBUX, low), (SBUX, close), (SBUX, volume), (SHLDQ, open), (SHLDQ, high), (SHLDQ, low), (SHLDQ, close), (SHLDQ, volume), ...]\n",
       "Index: []\n",
       "\n",
       "[0 rows x 140 columns]"
      ],
      "text/html": "<div>\n<style scoped>\n    .dataframe tbody tr th:only-of-type {\n        vertical-align: middle;\n    }\n\n    .dataframe tbody tr th {\n        vertical-align: top;\n    }\n\n    .dataframe thead tr th {\n        text-align: left;\n    }\n\n    .dataframe thead tr:last-of-type th {\n        text-align: right;\n    }\n</style>\n<table border=\"1\" class=\"dataframe\">\n  <thead>\n    <tr>\n      <th></th>\n      <th colspan=\"5\" halign=\"left\">AMZN</th>\n      <th colspan=\"5\" halign=\"left\">ASO</th>\n      <th>...</th>\n      <th colspan=\"5\" halign=\"left\">WSM</th>\n      <th colspan=\"5\" halign=\"left\">YUM</th>\n    </tr>\n    <tr>\n      <th></th>\n      <th>open</th>\n      <th>high</th>\n      <th>low</th>\n      <th>close</th>\n      <th>volume</th>\n      <th>open</th>\n      <th>high</th>\n      <th>low</th>\n      <th>close</th>\n      <th>volume</th>\n      <th>...</th>\n      <th>open</th>\n      <th>high</th>\n      <th>low</th>\n      <th>close</th>\n      <th>volume</th>\n      <th>open</th>\n      <th>high</th>\n      <th>low</th>\n      <th>close</th>\n      <th>volume</th>\n    </tr>\n    <tr>\n      <th>time</th>\n      <th></th>\n      <th></th>\n      <th></th>\n      <th></th>\n      <th></th>\n      <th></th>\n      <th></th>\n      <th></th>\n      <th></th>\n      <th></th>\n      <th></th>\n      <th></th>\n      <th></th>\n      <th></th>\n      <th></th>\n      <th></th>\n      <th></th>\n      <th></th>\n      <th></th>\n      <th></th>\n      <th></th>\n    </tr>\n  </thead>\n  <tbody>\n  </tbody>\n</table>\n<p>0 rows × 140 columns</p>\n</div>"
     },
     "metadata": {},
     "execution_count": 133
    }
   ],
   "source": [
    "df_portfolio.dropna()"
   ]
  },
  {
   "cell_type": "code",
   "execution_count": 134,
   "metadata": {},
   "outputs": [
    {
     "output_type": "execute_result",
     "data": {
      "text/plain": [
       "Empty DataFrame\n",
       "Columns: [AMZN, ASO, BABA, DIS, DPZ, DRI, EAT, EBAY, ETSY, FB, GRUB, LVMUY, MACY, MCD, NFLX, OSTK, PPRUY, PYPL, SBUX, SHLDQ, SHOP, SQ, TGT, UBER, WEN, WMT, WSM, YUM]\n",
       "Index: []\n",
       "\n",
       "[0 rows x 28 columns]"
      ],
      "text/html": "<div>\n<style scoped>\n    .dataframe tbody tr th:only-of-type {\n        vertical-align: middle;\n    }\n\n    .dataframe tbody tr th {\n        vertical-align: top;\n    }\n\n    .dataframe thead th {\n        text-align: right;\n    }\n</style>\n<table border=\"1\" class=\"dataframe\">\n  <thead>\n    <tr style=\"text-align: right;\">\n      <th></th>\n      <th>AMZN</th>\n      <th>ASO</th>\n      <th>BABA</th>\n      <th>DIS</th>\n      <th>DPZ</th>\n      <th>DRI</th>\n      <th>EAT</th>\n      <th>EBAY</th>\n      <th>ETSY</th>\n      <th>FB</th>\n      <th>...</th>\n      <th>SBUX</th>\n      <th>SHLDQ</th>\n      <th>SHOP</th>\n      <th>SQ</th>\n      <th>TGT</th>\n      <th>UBER</th>\n      <th>WEN</th>\n      <th>WMT</th>\n      <th>WSM</th>\n      <th>YUM</th>\n    </tr>\n    <tr>\n      <th>time</th>\n      <th></th>\n      <th></th>\n      <th></th>\n      <th></th>\n      <th></th>\n      <th></th>\n      <th></th>\n      <th></th>\n      <th></th>\n      <th></th>\n      <th></th>\n      <th></th>\n      <th></th>\n      <th></th>\n      <th></th>\n      <th></th>\n      <th></th>\n      <th></th>\n      <th></th>\n      <th></th>\n      <th></th>\n    </tr>\n  </thead>\n  <tbody>\n  </tbody>\n</table>\n<p>0 rows × 28 columns</p>\n</div>"
     },
     "metadata": {},
     "execution_count": 134
    }
   ],
   "source": [
    "closing_price = df_portfolio.xs(\"close\",axis=\"columns\",level=1)\n",
    "closing_price.dropna()"
   ]
  },
  {
   "cell_type": "code",
   "execution_count": 135,
   "metadata": {},
   "outputs": [],
   "source": [
    "closing_price.to_csv('../../data/cleandata/closing_prices.csv')\n"
   ]
  },
  {
   "cell_type": "code",
   "execution_count": null,
   "metadata": {},
   "outputs": [],
   "source": []
  }
 ]
}