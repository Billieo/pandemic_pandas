{
 "cells": [
  {
   "cell_type": "code",
   "execution_count": 2,
   "metadata": {},
   "outputs": [],
   "source": [
    "import pandas as pd\n",
    "import numpy as np\n",
    "import datetime as dt\n",
    "import seaborn as sns\n",
    "import os\n",
    "from pathlib import Path\n",
    "\n",
    "%matplotlib inline"
   ]
  },
  {
   "cell_type": "code",
   "execution_count": 3,
   "metadata": {},
   "outputs": [],
   "source": [
    "# Reading Data\n",
    "\n",
    "clothing_Access_path = Path(\"../data/rawdata/Clothing_ Access _Stores_Total.csv\")\n",
    "department_Stores_path = Path(\"../data/rawdata/Department_Stores_Total.csv\")\n",
    "electronics_Appli_path = Path(\"../data/rawdata/Electronics_Appli_Stores_Total.csv\")\n",
    "Food_Serv_Drink_path = Path(\"../data/rawdata/Food _Serv_ Drink _Places_Total.csv\")\n",
    "Food_Beverage_path = Path(\"../data/rawdata/Food_Beverage_Stores_Total.csv\")\n",
    "Furniture_HomeFurnis_path = Path(\"../data/rawdata/Furnitures_HomeFurnis_Total.csv\")\n",
    "Health_Personal_Care_path = Path(\"../data/rawdata/Health_Personal_Care_Total.csv\")\n",
    "Nonstore_Retailers_path = Path(\"../data/rawdata/Nonstore _Retailers_Total.csv\")\n",
    "\n",
    "clothing_Access = pd.read_csv(clothing_Access_path, index_col=\"Period\", infer_datetime_format=True, parse_dates=True)\n",
    "department_Stores = pd.read_csv(department_Stores_path, index_col=\"Period\", infer_datetime_format=True, parse_dates=True)\n",
    "electronics_Appli = pd.read_csv(electronics_Appli_path, index_col=\"Period\", infer_datetime_format=True, parse_dates=True)\n",
    "food_Serv_Drink = pd.read_csv(Food_Serv_Drink_path, index_col=\"Period\", infer_datetime_format=True, parse_dates=True)\n",
    "food_Beverage = pd.read_csv(Food_Beverage_path, index_col=\"Period\", infer_datetime_format=True, parse_dates=True)\n",
    "furniture_HomeFurnis = pd.read_csv(Furniture_HomeFurnis_path, index_col=\"Period\", infer_datetime_format=True, parse_dates=True)\n",
    "health_Personal_Care = pd.read_csv(Health_Personal_Care_path, index_col=\"Period\", infer_datetime_format=True, parse_dates=True)\n",
    "nonstore_Retailers = pd.read_csv(Nonstore_Retailers_path, index_col=\"Period\", infer_datetime_format=True, parse_dates=True)"
   ]
  },
  {
   "cell_type": "code",
   "execution_count": 120,
   "metadata": {},
   "outputs": [
    {
     "output_type": "execute_result",
     "data": {
      "text/plain": [
       "          Value\n",
       "Period         \n",
       "18-Jan  15780.0\n",
       "18-Feb  18424.0\n",
       "18-Mar  22207.0\n",
       "18-Apr  20463.0\n",
       "18-May  23560.0"
      ],
      "text/html": "<div>\n<style scoped>\n    .dataframe tbody tr th:only-of-type {\n        vertical-align: middle;\n    }\n\n    .dataframe tbody tr th {\n        vertical-align: top;\n    }\n\n    .dataframe thead th {\n        text-align: right;\n    }\n</style>\n<table border=\"1\" class=\"dataframe\">\n  <thead>\n    <tr style=\"text-align: right;\">\n      <th></th>\n      <th>Value</th>\n    </tr>\n    <tr>\n      <th>Period</th>\n      <th></th>\n    </tr>\n  </thead>\n  <tbody>\n    <tr>\n      <th>18-Jan</th>\n      <td>15780.0</td>\n    </tr>\n    <tr>\n      <th>18-Feb</th>\n      <td>18424.0</td>\n    </tr>\n    <tr>\n      <th>18-Mar</th>\n      <td>22207.0</td>\n    </tr>\n    <tr>\n      <th>18-Apr</th>\n      <td>20463.0</td>\n    </tr>\n    <tr>\n      <th>18-May</th>\n      <td>23560.0</td>\n    </tr>\n  </tbody>\n</table>\n</div>"
     },
     "metadata": {},
     "execution_count": 120
    }
   ],
   "source": [
    "clothing_Access.head()"
   ]
  },
  {
   "cell_type": "code",
   "execution_count": 114,
   "metadata": {},
   "outputs": [
    {
     "output_type": "execute_result",
     "data": {
      "text/plain": [
       "          Value\n",
       "Period         \n",
       "18-Jan   9120.0\n",
       "18-Feb   9663.0\n",
       "18-Mar  11481.0\n",
       "18-Apr  10567.0\n",
       "18-May  12014.0"
      ],
      "text/html": "<div>\n<style scoped>\n    .dataframe tbody tr th:only-of-type {\n        vertical-align: middle;\n    }\n\n    .dataframe tbody tr th {\n        vertical-align: top;\n    }\n\n    .dataframe thead th {\n        text-align: right;\n    }\n</style>\n<table border=\"1\" class=\"dataframe\">\n  <thead>\n    <tr style=\"text-align: right;\">\n      <th></th>\n      <th>Value</th>\n    </tr>\n    <tr>\n      <th>Period</th>\n      <th></th>\n    </tr>\n  </thead>\n  <tbody>\n    <tr>\n      <th>18-Jan</th>\n      <td>9120.0</td>\n    </tr>\n    <tr>\n      <th>18-Feb</th>\n      <td>9663.0</td>\n    </tr>\n    <tr>\n      <th>18-Mar</th>\n      <td>11481.0</td>\n    </tr>\n    <tr>\n      <th>18-Apr</th>\n      <td>10567.0</td>\n    </tr>\n    <tr>\n      <th>18-May</th>\n      <td>12014.0</td>\n    </tr>\n  </tbody>\n</table>\n</div>"
     },
     "metadata": {},
     "execution_count": 114
    }
   ],
   "source": [
    "department_Stores.head()"
   ]
  },
  {
   "cell_type": "code",
   "execution_count": 113,
   "metadata": {},
   "outputs": [
    {
     "output_type": "execute_result",
     "data": {
      "text/plain": [
       "          Value\n",
       "Period         \n",
       "18-Jan  60393.0\n",
       "18-Feb  56483.0\n",
       "18-Mar  63791.0\n",
       "18-Apr  59571.0\n",
       "18-May  64527.0"
      ],
      "text/html": "<div>\n<style scoped>\n    .dataframe tbody tr th:only-of-type {\n        vertical-align: middle;\n    }\n\n    .dataframe tbody tr th {\n        vertical-align: top;\n    }\n\n    .dataframe thead th {\n        text-align: right;\n    }\n</style>\n<table border=\"1\" class=\"dataframe\">\n  <thead>\n    <tr style=\"text-align: right;\">\n      <th></th>\n      <th>Value</th>\n    </tr>\n    <tr>\n      <th>Period</th>\n      <th></th>\n    </tr>\n  </thead>\n  <tbody>\n    <tr>\n      <th>18-Jan</th>\n      <td>60393.0</td>\n    </tr>\n    <tr>\n      <th>18-Feb</th>\n      <td>56483.0</td>\n    </tr>\n    <tr>\n      <th>18-Mar</th>\n      <td>63791.0</td>\n    </tr>\n    <tr>\n      <th>18-Apr</th>\n      <td>59571.0</td>\n    </tr>\n    <tr>\n      <th>18-May</th>\n      <td>64527.0</td>\n    </tr>\n  </tbody>\n</table>\n</div>"
     },
     "metadata": {},
     "execution_count": 113
    }
   ],
   "source": [
    "food_Beverage.head()"
   ]
  },
  {
   "cell_type": "code",
   "execution_count": 116,
   "metadata": {},
   "outputs": [
    {
     "output_type": "execute_result",
     "data": {
      "text/plain": [
       "         Value\n",
       "Period        \n",
       "18-Jan  7290.0\n",
       "18-Feb  6972.0\n",
       "18-Mar  7581.0\n",
       "18-Apr  6835.0\n",
       "18-May  7397.0"
      ],
      "text/html": "<div>\n<style scoped>\n    .dataframe tbody tr th:only-of-type {\n        vertical-align: middle;\n    }\n\n    .dataframe tbody tr th {\n        vertical-align: top;\n    }\n\n    .dataframe thead th {\n        text-align: right;\n    }\n</style>\n<table border=\"1\" class=\"dataframe\">\n  <thead>\n    <tr style=\"text-align: right;\">\n      <th></th>\n      <th>Value</th>\n    </tr>\n    <tr>\n      <th>Period</th>\n      <th></th>\n    </tr>\n  </thead>\n  <tbody>\n    <tr>\n      <th>18-Jan</th>\n      <td>7290.0</td>\n    </tr>\n    <tr>\n      <th>18-Feb</th>\n      <td>6972.0</td>\n    </tr>\n    <tr>\n      <th>18-Mar</th>\n      <td>7581.0</td>\n    </tr>\n    <tr>\n      <th>18-Apr</th>\n      <td>6835.0</td>\n    </tr>\n    <tr>\n      <th>18-May</th>\n      <td>7397.0</td>\n    </tr>\n  </tbody>\n</table>\n</div>"
     },
     "metadata": {},
     "execution_count": 116
    }
   ],
   "source": [
    "electronics_Appli.head()"
   ]
  },
  {
   "cell_type": "code",
   "execution_count": 117,
   "metadata": {},
   "outputs": [
    {
     "output_type": "execute_result",
     "data": {
      "text/plain": [
       "          Value\n",
       "Period         \n",
       "18-Jan  54478.0\n",
       "18-Feb  54702.0\n",
       "18-Mar  63389.0\n",
       "18-Apr  60128.0\n",
       "18-May  63941.0"
      ],
      "text/html": "<div>\n<style scoped>\n    .dataframe tbody tr th:only-of-type {\n        vertical-align: middle;\n    }\n\n    .dataframe tbody tr th {\n        vertical-align: top;\n    }\n\n    .dataframe thead th {\n        text-align: right;\n    }\n</style>\n<table border=\"1\" class=\"dataframe\">\n  <thead>\n    <tr style=\"text-align: right;\">\n      <th></th>\n      <th>Value</th>\n    </tr>\n    <tr>\n      <th>Period</th>\n      <th></th>\n    </tr>\n  </thead>\n  <tbody>\n    <tr>\n      <th>18-Jan</th>\n      <td>54478.0</td>\n    </tr>\n    <tr>\n      <th>18-Feb</th>\n      <td>54702.0</td>\n    </tr>\n    <tr>\n      <th>18-Mar</th>\n      <td>63389.0</td>\n    </tr>\n    <tr>\n      <th>18-Apr</th>\n      <td>60128.0</td>\n    </tr>\n    <tr>\n      <th>18-May</th>\n      <td>63941.0</td>\n    </tr>\n  </tbody>\n</table>\n</div>"
     },
     "metadata": {},
     "execution_count": 117
    }
   ],
   "source": [
    "Food_Serv_Drink.head()"
   ]
  },
  {
   "cell_type": "code",
   "execution_count": 118,
   "metadata": {},
   "outputs": [
    {
     "output_type": "execute_result",
     "data": {
      "text/plain": [
       "          Value\n",
       "Period         \n",
       "18-Jan   8878.0\n",
       "18-Feb   8701.0\n",
       "18-Mar  10185.0\n",
       "18-Apr   9365.0\n",
       "18-May  10114.0"
      ],
      "text/html": "<div>\n<style scoped>\n    .dataframe tbody tr th:only-of-type {\n        vertical-align: middle;\n    }\n\n    .dataframe tbody tr th {\n        vertical-align: top;\n    }\n\n    .dataframe thead th {\n        text-align: right;\n    }\n</style>\n<table border=\"1\" class=\"dataframe\">\n  <thead>\n    <tr style=\"text-align: right;\">\n      <th></th>\n      <th>Value</th>\n    </tr>\n    <tr>\n      <th>Period</th>\n      <th></th>\n    </tr>\n  </thead>\n  <tbody>\n    <tr>\n      <th>18-Jan</th>\n      <td>8878.0</td>\n    </tr>\n    <tr>\n      <th>18-Feb</th>\n      <td>8701.0</td>\n    </tr>\n    <tr>\n      <th>18-Mar</th>\n      <td>10185.0</td>\n    </tr>\n    <tr>\n      <th>18-Apr</th>\n      <td>9365.0</td>\n    </tr>\n    <tr>\n      <th>18-May</th>\n      <td>10114.0</td>\n    </tr>\n  </tbody>\n</table>\n</div>"
     },
     "metadata": {},
     "execution_count": 118
    }
   ],
   "source": [
    "Furniture_HomeFurnis.head()"
   ]
  },
  {
   "cell_type": "code",
   "execution_count": null,
   "metadata": {},
   "outputs": [],
   "source": [
    "health_Personal_Care.head(\n",
    "    \n",
    ")"
   ]
  }
 ],
 "metadata": {
  "kernelspec": {
   "name": "python385jvsc74a57bd08ac912e19608ef9cc58439799587d1e63f4b5cf3ceb65af60012ec062050ea05",
   "display_name": "Python 3.8.5 64-bit ('base': conda)"
  },
  "language_info": {
   "codemirror_mode": {
    "name": "ipython",
    "version": 3
   },
   "file_extension": ".py",
   "mimetype": "text/x-python",
   "name": "python",
   "nbconvert_exporter": "python",
   "pygments_lexer": "ipython3",
   "version": "3.8.5"
  }
 },
 "nbformat": 4,
 "nbformat_minor": 4
}